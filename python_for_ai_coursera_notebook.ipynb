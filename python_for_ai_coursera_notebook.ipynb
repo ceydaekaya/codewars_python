{
 "cells": [
  {
   "cell_type": "code",
   "execution_count": 17,
   "metadata": {},
   "outputs": [
    {
     "data": {
      "text/plain": [
       "'hello'"
      ]
     },
     "execution_count": 17,
     "metadata": {},
     "output_type": "execute_result"
    }
   ],
   "source": [
    "#Find the value stored at index 1 of a_list.\n",
    "a_list[1]"
   ]
  },
  {
   "cell_type": "code",
   "execution_count": 18,
   "metadata": {},
   "outputs": [
    {
     "data": {
      "text/plain": [
       "['hello', [1, 2, 3], True]"
      ]
     },
     "execution_count": 18,
     "metadata": {},
     "output_type": "execute_result"
    }
   ],
   "source": [
    "#Retrieve the elements stored at index 1, 2 and 3 of a_list.\n",
    "a_list[1:4]"
   ]
  },
  {
   "cell_type": "code",
   "execution_count": 5,
   "metadata": {},
   "outputs": [
    {
     "data": {
      "text/plain": [
       "[1, 'a', 2, 1, 'd']"
      ]
     },
     "execution_count": 5,
     "metadata": {},
     "output_type": "execute_result"
    }
   ],
   "source": [
    "#Concatenate the following lists A = [1, 'a'] and B = [2, 1, 'd']:\n",
    "A = [1, 'a']\n",
    "B = [2, 1, 'd']\n",
    "A+B"
   ]
  },
  {
   "cell_type": "code",
   "execution_count": 6,
   "metadata": {},
   "outputs": [
    {
     "data": {
      "text/plain": [
       "8"
      ]
     },
     "execution_count": 6,
     "metadata": {},
     "output_type": "execute_result"
    }
   ],
   "source": [
    "#Find the length of the tuple, genres_tuple:\n",
    "genres_tuple = (\"pop\", \"rock\", \"soul\", \"hard rock\", \"soft rock\", \\\n",
    "                \"R&B\", \"progressive rock\", \"disco\") \n",
    "len(genres_tuple)"
   ]
  },
  {
   "cell_type": "code",
   "execution_count": 7,
   "metadata": {},
   "outputs": [
    {
     "data": {
      "text/plain": [
       "'hard rock'"
      ]
     },
     "execution_count": 7,
     "metadata": {},
     "output_type": "execute_result"
    }
   ],
   "source": [
    "#Access the element, with respect to index 3:\n",
    "genres_tuple[3]"
   ]
  },
  {
   "cell_type": "code",
   "execution_count": 8,
   "metadata": {},
   "outputs": [
    {
     "data": {
      "text/plain": [
       "('hard rock', 'soft rock', 'R&B')"
      ]
     },
     "execution_count": 8,
     "metadata": {},
     "output_type": "execute_result"
    }
   ],
   "source": [
    "#Use slicing to obtain indexes 3, 4 and 5:\n",
    "genres_tuple[3:6]"
   ]
  },
  {
   "cell_type": "code",
   "execution_count": 9,
   "metadata": {},
   "outputs": [
    {
     "data": {
      "text/plain": [
       "('pop', 'rock')"
      ]
     },
     "execution_count": 9,
     "metadata": {},
     "output_type": "execute_result"
    }
   ],
   "source": [
    "#Find the first two elements of the tuple genres_tuple:\n",
    "genres_tuple[0:2]"
   ]
  },
  {
   "cell_type": "code",
   "execution_count": 10,
   "metadata": {},
   "outputs": [
    {
     "data": {
      "text/plain": [
       "7"
      ]
     },
     "execution_count": 10,
     "metadata": {},
     "output_type": "execute_result"
    }
   ],
   "source": [
    "#Find the first index of \"disco\":\n",
    "genres_tuple.index(\"disco\")"
   ]
  },
  {
   "cell_type": "code",
   "execution_count": 11,
   "metadata": {},
   "outputs": [
    {
     "data": {
      "text/plain": [
       "[-5, 1, 3]"
      ]
     },
     "execution_count": 11,
     "metadata": {},
     "output_type": "execute_result"
    }
   ],
   "source": [
    "#Generate a sorted List from the Tuple C_tuple=(-5, 1, -3):\n",
    "C_tuple = (-5,1,3)\n",
    "sorted_C = sorted(C_tuple)\n",
    "sorted_C"
   ]
  },
  {
   "cell_type": "code",
   "execution_count": 12,
   "metadata": {},
   "outputs": [
    {
     "name": "stdout",
     "output_type": "stream",
     "text": [
      "ABC\n"
     ]
    }
   ],
   "source": [
    "#Consider the variable D use slicing to print out the first three elements:\n",
    "D = \"ABCDEFG\"\n",
    "print(D[0:3])"
   ]
  },
  {
   "cell_type": "code",
   "execution_count": 13,
   "metadata": {},
   "outputs": [
    {
     "name": "stdout",
     "output_type": "stream",
     "text": [
      "correct\n"
     ]
    }
   ],
   "source": [
    "#Use a stride value of 2 to print out every second character of the string E:\n",
    "E = 'clocrkr1e1c1t'\n",
    "print(E[::2])"
   ]
  },
  {
   "cell_type": "code",
   "execution_count": 14,
   "metadata": {},
   "outputs": [
    {
     "data": {
      "text/plain": [
       "'YOU ARE WRONG'"
      ]
     },
     "execution_count": 14,
     "metadata": {},
     "output_type": "execute_result"
    }
   ],
   "source": [
    "#Convert the variable F to uppercase:\n",
    "F = \"You are wrong\"\n",
    "F.upper()"
   ]
  },
  {
   "cell_type": "code",
   "execution_count": 15,
   "metadata": {},
   "outputs": [
    {
     "data": {
      "text/plain": [
       "95"
      ]
     },
     "execution_count": 15,
     "metadata": {},
     "output_type": "execute_result"
    }
   ],
   "source": [
    "#Consider the variable G, and find the first index of the sub-string snow:\n",
    "G = \"Mary had a little lamb Little lamb, little lamb Mary had a little lamb \\\n",
    "Its fleece was white as snow And everywhere that Mary went Mary went, Mary went \\\n",
    "Everywhere that Mary went The lamb was sure to go\"\n",
    "G.find(\"snow\")"
   ]
  },
  {
   "cell_type": "code",
   "execution_count": 19,
   "metadata": {},
   "outputs": [
    {
     "data": {
      "text/plain": [
       "'Bob had a little lamb Little lamb, little lamb Bob had a little lamb Its fleece was white as snow And everywhere that Bob went Bob went, Bob went Everywhere that Bob went The lamb was sure to go'"
      ]
     },
     "execution_count": 19,
     "metadata": {},
     "output_type": "execute_result"
    }
   ],
   "source": [
    "#In the variable G, replace the sub-string Mary with Bob:\n",
    "G.replace(\"Mary\", \"Bob\")"
   ]
  },
  {
   "cell_type": "code",
   "execution_count": 20,
   "metadata": {},
   "outputs": [
    {
     "data": {
      "text/plain": [
       "{'The Bodyguard': '1992', 'Saturday Night Fever': '1977'}"
      ]
     },
     "execution_count": 20,
     "metadata": {},
     "output_type": "execute_result"
    }
   ],
   "source": [
    "#dictionary quiz\n",
    "\n",
    "soundtrack_dic = {\"The Bodyguard\":\"1992\", \"Saturday Night Fever\":\"1977\"}\n",
    "soundtrack_dic "
   ]
  },
  {
   "cell_type": "code",
   "execution_count": 23,
   "metadata": {},
   "outputs": [
    {
     "data": {
      "text/plain": [
       "dict_keys(['The Bodyguard', 'Saturday Night Fever'])"
      ]
     },
     "execution_count": 23,
     "metadata": {},
     "output_type": "execute_result"
    }
   ],
   "source": [
    "#a) In the dictionary soundtrack_dic what are the keys ?\n",
    "soundtrack_dic.keys() "
   ]
  },
  {
   "cell_type": "code",
   "execution_count": 24,
   "metadata": {},
   "outputs": [
    {
     "data": {
      "text/plain": [
       "dict_values(['1992', '1977'])"
      ]
     },
     "execution_count": 24,
     "metadata": {},
     "output_type": "execute_result"
    }
   ],
   "source": [
    "#b) In the dictionary soundtrack_dic what are the values ?\n",
    "soundtrack_dic.values()"
   ]
  },
  {
   "cell_type": "code",
   "execution_count": 27,
   "metadata": {},
   "outputs": [
    {
     "data": {
      "text/plain": [
       "{'The Bodyguard': 50, 'Back in Black': 50, 'Thriller': 65}"
      ]
     },
     "execution_count": 27,
     "metadata": {},
     "output_type": "execute_result"
    }
   ],
   "source": [
    "#a) Create a dictionary album_sales_dict where the keys are the album name and the \n",
    "#sales in millions are the values.\n",
    "album_sales_dict = {\"The Bodyguard\":50, \"Back in Black\":50, \"Thriller\":65}\n",
    "album_sales_dict"
   ]
  },
  {
   "cell_type": "code",
   "execution_count": 28,
   "metadata": {},
   "outputs": [
    {
     "data": {
      "text/plain": [
       "65"
      ]
     },
     "execution_count": 28,
     "metadata": {},
     "output_type": "execute_result"
    }
   ],
   "source": [
    "#b) Use the dictionary to find the total sales of Thriller:\n",
    "album_sales_dict[\"Thriller\"]"
   ]
  },
  {
   "cell_type": "code",
   "execution_count": 29,
   "metadata": {},
   "outputs": [
    {
     "data": {
      "text/plain": [
       "dict_keys(['The Bodyguard', 'Back in Black', 'Thriller'])"
      ]
     },
     "execution_count": 29,
     "metadata": {},
     "output_type": "execute_result"
    }
   ],
   "source": [
    "#c) Find the names of the albums from the dictionary using the method keys():\n",
    "album_sales_dict.keys()"
   ]
  },
  {
   "cell_type": "code",
   "execution_count": 30,
   "metadata": {},
   "outputs": [
    {
     "data": {
      "text/plain": [
       "dict_values([50, 50, 65])"
      ]
     },
     "execution_count": 30,
     "metadata": {},
     "output_type": "execute_result"
    }
   ],
   "source": [
    "#d) Find the values of the recording sales from the dictionary using the method values:\n",
    "album_sales_dict.values()"
   ]
  },
  {
   "cell_type": "code",
   "execution_count": 31,
   "metadata": {},
   "outputs": [
    {
     "data": {
      "text/plain": [
       "{'electronic music', 'house', 'rap'}"
      ]
     },
     "execution_count": 31,
     "metadata": {},
     "output_type": "execute_result"
    }
   ],
   "source": [
    "#sets quiz\n",
    "#Convert the list ['rap','house','electronic music', 'rap'] to a set:\n",
    "set(['rap','house','electronic music','rap'])"
   ]
  },
  {
   "cell_type": "code",
   "execution_count": 32,
   "metadata": {},
   "outputs": [
    {
     "name": "stdout",
     "output_type": "stream",
     "text": [
      "the sum of A is: 6\n",
      "the sum of B is: 3\n"
     ]
    }
   ],
   "source": [
    "#Consider the list A = [1, 2, 2, 1] and set B = set([1, 2, 2, 1]), does sum(A) = sum(B)\n",
    "A = [1, 2, 2, 1]  \n",
    "B = set([1, 2, 2, 1])\n",
    "print(\"the sum of A is:\", sum(A))\n",
    "print(\"the sum of B is:\", sum(B))"
   ]
  },
  {
   "cell_type": "code",
   "execution_count": 34,
   "metadata": {},
   "outputs": [
    {
     "data": {
      "text/plain": [
       "{'AC/DC', 'Back in Black', 'The Dark Side of the Moon', 'Thriller'}"
      ]
     },
     "execution_count": 34,
     "metadata": {},
     "output_type": "execute_result"
    }
   ],
   "source": [
    "#Create a new set album_set3 that is the union of album_set1 and album_set2:\n",
    "album_set1 = set([\"Thriller\", 'AC/DC', 'Back in Black'])\n",
    "album_set2 = set([ \"AC/DC\", \"Back in Black\", \"The Dark Side of the Moon\"])\n",
    "album_set3 = album_set1.union(album_set2)\n",
    "album_set3"
   ]
  },
  {
   "cell_type": "code",
   "execution_count": 35,
   "metadata": {},
   "outputs": [
    {
     "data": {
      "text/plain": [
       "True"
      ]
     },
     "execution_count": 35,
     "metadata": {},
     "output_type": "execute_result"
    }
   ],
   "source": [
    "#Find out if album_set1 is a subset of album_set3:\n",
    "album_set1.issubset(album_set3)"
   ]
  },
  {
   "cell_type": "code",
   "execution_count": 1,
   "metadata": {},
   "outputs": [
    {
     "name": "stdout",
     "output_type": "stream",
     "text": [
      "This album is Amazing!\n"
     ]
    }
   ],
   "source": [
    "#Write an if statement to determine if an album had a rating greater than 8. \n",
    "#Test it using the rating for the album <b>“Back in Black”</b> that had a rating of 8.5. \n",
    "#If the statement is true print \"This album is Amazing!\"\n",
    "rating = 8.5\n",
    "if rating > 8:\n",
    "    print (\"This album is Amazing!\")"
   ]
  },
  {
   "cell_type": "code",
   "execution_count": 2,
   "metadata": {},
   "outputs": [
    {
     "name": "stdout",
     "output_type": "stream",
     "text": [
      "this album is amazing\n"
     ]
    }
   ],
   "source": [
    "#Write an if-else statement that performs the following. If the rating is larger then eight print “this album is amazing”. \n",
    "#If the rating is less than or equal to 8 print “this album is ok”.\n",
    "rating = 8.5\n",
    "if rating > 8:\n",
    "    print (\"this album is amazing\")\n",
    "else:\n",
    "    print (\"this album is ok\")"
   ]
  },
  {
   "cell_type": "code",
   "execution_count": 3,
   "metadata": {},
   "outputs": [
    {
     "name": "stdout",
     "output_type": "stream",
     "text": [
      "This album came out in year 1979\n"
     ]
    }
   ],
   "source": [
    "#Write an if statement to determine if an album came out before 1980 or in the years: 1991 or 1993. \n",
    "#If the condition is true print out the year the album came out.\n",
    "album_year = 1979\n",
    "\n",
    "if album_year < 1980 or album_year == 1991 or album_year == 1993:\n",
    "    print (\"This album came out in year %d\" %album_year)"
   ]
  },
  {
   "cell_type": "code",
   "execution_count": 4,
   "metadata": {},
   "outputs": [
    {
     "name": "stdout",
     "output_type": "stream",
     "text": [
      "-5\n",
      "-4\n",
      "-3\n",
      "-2\n",
      "-1\n",
      "0\n",
      "1\n",
      "2\n",
      "3\n",
      "4\n",
      "5\n"
     ]
    }
   ],
   "source": [
    "#Write a for loop the prints out all the element between -5 and 5 using the range function.\n",
    "for i in range(-5, 6):\n",
    "    print(i)"
   ]
  },
  {
   "cell_type": "code",
   "execution_count": 5,
   "metadata": {},
   "outputs": [
    {
     "name": "stdout",
     "output_type": "stream",
     "text": [
      "rock\n",
      "R&B\n",
      "Soundtrack\n",
      "R&B\n",
      "soul\n",
      "pop\n"
     ]
    }
   ],
   "source": [
    "#Print the elements of the following list: \n",
    "#Genres=[ 'rock', 'R&B', 'Soundtrack', 'R&B', 'soul', 'pop']\n",
    "Genres = ['rock', 'R&B', 'Soundtrack', 'R&B', 'soul', 'pop']\n",
    "for Genre in Genres:\n",
    "    print(Genre)"
   ]
  },
  {
   "cell_type": "code",
   "execution_count": 6,
   "metadata": {},
   "outputs": [
    {
     "name": "stdout",
     "output_type": "stream",
     "text": [
      "red\n",
      "yellow\n",
      "green\n",
      "purple\n",
      "blue\n"
     ]
    }
   ],
   "source": [
    "#Write a for loop that prints out the following list:\n",
    "#squares=['red', 'yellow', 'green', 'purple', 'blue']\n",
    "squares=['red', 'yellow', 'green', 'purple', 'blue']\n",
    "for square in squares:\n",
    "    print(square)"
   ]
  },
  {
   "cell_type": "code",
   "execution_count": 7,
   "metadata": {},
   "outputs": [
    {
     "name": "stdout",
     "output_type": "stream",
     "text": [
      "10\n",
      "9.5\n",
      "10\n",
      "8\n",
      "7.5\n"
     ]
    }
   ],
   "source": [
    "#If the score is less than 6, exit the loop. \n",
    "#The list PlayListRatings is given by: PlayListRatings = [10, 9.5, 10, 8, 7.5, 5, 10, 10]\n",
    "PlayListRatings = [10, 9.5, 10, 8, 7.5, 5, 10, 10]\n",
    "i = 1\n",
    "Rating = PlayListRatings[0]\n",
    "while(Rating >= 6):\n",
    "    print(Rating)\n",
    "    Rating = PlayListRatings[i]\n",
    "    i = i + 1"
   ]
  },
  {
   "cell_type": "code",
   "execution_count": 8,
   "metadata": {},
   "outputs": [
    {
     "name": "stdout",
     "output_type": "stream",
     "text": [
      "['orange', 'orange']\n"
     ]
    }
   ],
   "source": [
    "#Write a while loop to copy the strings 'orange' of the list squares to the list new_squares. \n",
    "#Stop and exit the loop if the value on the list is not 'orange':\n",
    "squares = ['orange', 'orange', 'purple', 'blue ', 'orange']\n",
    "new_squares = []\n",
    "i = 0\n",
    "while(squares[i] == 'orange'):\n",
    "    new_squares.append(squares[i])\n",
    "    i = i + 1\n",
    "print (new_squares)"
   ]
  },
  {
   "cell_type": "code",
   "execution_count": 9,
   "metadata": {},
   "outputs": [
    {
     "name": "stdout",
     "output_type": "stream",
     "text": [
      "0 AA\n",
      "1 BB\n",
      "2 CC\n"
     ]
    }
   ],
   "source": [
    "for i,x in enumerate(['A','B','C']):\n",
    "    print(i,2*x)"
   ]
  },
  {
   "cell_type": "code",
   "execution_count": 10,
   "metadata": {},
   "outputs": [
    {
     "name": "stdout",
     "output_type": "stream",
     "text": [
      "5\n",
      "4\n",
      "3\n"
     ]
    }
   ],
   "source": [
    "x=5\n",
    "while(x!=2):\n",
    "  print(x)\n",
    "  x=x-1\n"
   ]
  },
  {
   "cell_type": "code",
   "execution_count": 11,
   "metadata": {},
   "outputs": [
    {
     "name": "stdout",
     "output_type": "stream",
     "text": [
      "2\n"
     ]
    }
   ],
   "source": [
    "for i in range(1,5):\n",
    "    if (i==2):\n",
    "        print(i)"
   ]
  },
  {
   "cell_type": "code",
   "execution_count": 18,
   "metadata": {},
   "outputs": [
    {
     "name": "stdout",
     "output_type": "stream",
     "text": [
      "AC/DC's rating is: 10.0\n",
      "Deep Purple's rating is:  0.0\n",
      "My favourite band is: AC/DC\n"
     ]
    }
   ],
   "source": [
    "myFavouriteBand = \"AC/DC\"\n",
    "\n",
    "def getBandRating(bandname):\n",
    "    myFavouriteBand = \"Deep Purple\"\n",
    "    if bandname == myFavouriteBand:\n",
    "        return 0.0\n",
    "    else:\n",
    "        return 10.0\n",
    "\n",
    "print(\"AC/DC's rating is:\",getBandRating(\"AC/DC\"))\n",
    "print(\"Deep Purple's rating is: \",getBandRating(\"Deep Purple\"))\n",
    "print(\"My favourite band is:\",myFavouriteBand)"
   ]
  },
  {
   "cell_type": "code",
   "execution_count": 19,
   "metadata": {},
   "outputs": [
    {
     "name": "stdout",
     "output_type": "stream",
     "text": [
      "fillBag : \n",
      "Test Passed\n",
      "totalBalls : \n",
      "Test Passed\n",
      "probOf\n",
      "Test Passed\n",
      "probAll\n",
      "Test Passed\n"
     ]
    }
   ],
   "source": [
    "def fillBag(**balls):\n",
    "    global bag\n",
    "    bag = balls\n",
    "    \n",
    "def totalBalls():\n",
    "    total = 0\n",
    "    for color in bag:\n",
    "        total += bag[color]\n",
    "    return total\n",
    "    # alternatively,\n",
    "    # return sum(bag.values())\n",
    "    \n",
    "def probOf(color):\n",
    "    return bag[color]/totalBalls()\n",
    "\n",
    "def probAll():\n",
    "    probDict = {}\n",
    "    for color in bag:\n",
    "        probDict[color] = probOf(color)\n",
    "    return probDict\n",
    "\n",
    "testBag = dict(red = 12, blue = 20, green = 14, grey = 10)\n",
    "total =  sum(testBag.values())\n",
    "prob={}\n",
    "for color in testBag:\n",
    "    prob[color] = testBag[color]/total;\n",
    "\n",
    "def testMsg(passed):\n",
    "    if passed:\n",
    "       return 'Test Passed'\n",
    "    else :\n",
    "       return ' Test Failed'\n",
    "\n",
    "print(\"fillBag : \")\n",
    "try:\n",
    "    fillBag(**testBag)\n",
    "    print(testMsg(bag == testBag))\n",
    "except NameError as e: \n",
    "    print('Error! Code: {c}, Message: {m}'.format(c = type(e).__name__, m = str(e)))\n",
    "except:\n",
    "    print(\"An error occured. Recheck your function\")\n",
    "\n",
    "\n",
    "\n",
    "print(\"totalBalls : \")\n",
    "try:\n",
    "    print(testMsg(total == totalBalls()))\n",
    "except NameError as e: \n",
    "    print('Error! Code: {c}, Message: {m}'.format(c = type(e).__name__, m = str(e)))\n",
    "except:\n",
    "    print(\"An error occured. Recheck your function\")\n",
    "    \n",
    "print(\"probOf\")\n",
    "try:\n",
    "    passed = True\n",
    "    for color in testBag:\n",
    "           if probOf(color) != prob[color]:\n",
    "                passed = False\n",
    "        \n",
    "    print(testMsg(passed) )\n",
    "except NameError as e: \n",
    "    print('Error! Code: {c}, Message: {m}'.format(c = type(e).__name__, m = str(e)))\n",
    "except:\n",
    "    print(\"An error occured. Recheck your function\")\n",
    "    \n",
    "print(\"probAll\")\n",
    "try:\n",
    "    print(testMsg(probAll() == prob))\n",
    "except NameError as e: \n",
    "    print('Error! Code: {c}, Message: {m}'.format(c = type(e).__name__, m = str(e)))\n",
    "except:\n",
    "    print(\"An error occured. Recheck your function\")"
   ]
  },
  {
   "cell_type": "code",
   "execution_count": 20,
   "metadata": {},
   "outputs": [],
   "source": [
    "def div(a, b):\n",
    "    return(a/b)"
   ]
  },
  {
   "cell_type": "code",
   "execution_count": 22,
   "metadata": {},
   "outputs": [
    {
     "data": {
      "text/plain": [
       "['a', 1, 'b', 1]"
      ]
     },
     "execution_count": 22,
     "metadata": {},
     "output_type": "execute_result"
    }
   ],
   "source": [
    "def con(a, b):\n",
    "    return(a + b)\n",
    "con(['a', 1], ['b', 1])"
   ]
  },
  {
   "cell_type": "code",
   "execution_count": 24,
   "metadata": {},
   "outputs": [
    {
     "data": {
      "text/plain": [
       "'11'"
      ]
     },
     "execution_count": 24,
     "metadata": {},
     "output_type": "execute_result"
    }
   ],
   "source": [
    "def add(x):\n",
    "    return(x+x)\n",
    "    \n",
    "add('1')"
   ]
  },
  {
   "cell_type": "code",
   "execution_count": 25,
   "metadata": {},
   "outputs": [
    {
     "name": "stdout",
     "output_type": "stream",
     "text": [
      "2\n"
     ]
    }
   ],
   "source": [
    "a=1\n",
    "\n",
    "def do(x):\n",
    "    return(x+a)\n",
    "\n",
    "print(do(1))"
   ]
  },
  {
   "cell_type": "code",
   "execution_count": 30,
   "metadata": {},
   "outputs": [
    {
     "name": "stdout",
     "output_type": "stream",
     "text": [
      "9\n"
     ]
    }
   ],
   "source": [
    "def add(a,b):\n",
    "    print (a+b)\n",
    "add(5,4)"
   ]
  },
  {
   "cell_type": "code",
   "execution_count": 31,
   "metadata": {},
   "outputs": [
    {
     "name": "stdout",
     "output_type": "stream",
     "text": [
      "x= 1  y= 2\n"
     ]
    }
   ],
   "source": [
    "class Points(object):\n",
    "  def __init__(self,x,y):\n",
    "\n",
    "    self.x=x\n",
    "    self.y=y\n",
    "\n",
    "  def print_point(self):\n",
    "\n",
    "    print('x=',self.x,' y=',self.y)\n",
    "\n",
    "p1=Points(1,2)\n",
    "p1.print_point()"
   ]
  },
  {
   "cell_type": "code",
   "execution_count": 32,
   "metadata": {},
   "outputs": [],
   "source": [
    "class Rectangle(object):\n",
    "    \n",
    "    # Constructor\n",
    "    def __init__(self, width=2, height=3, color='r'):\n",
    "        self.height = height \n",
    "        self.width = width\n",
    "        self.color = color\n",
    "    \n",
    "    # Method\n",
    "    def drawRectangle(self):\n",
    "        plt.gca().add_patch(plt.Rectangle((0, 0), self.width, self.height ,fc=self.color))\n",
    "        plt.axis('scaled')\n",
    "        plt.show()"
   ]
  },
  {
   "cell_type": "code",
   "execution_count": 33,
   "metadata": {},
   "outputs": [],
   "source": [
    "#Let’s create the object SkinnyBlueRectangle of type Rectangle. \n",
    "#Its width will be 2 and height will be 3, and the color will be blue:\n",
    "SkinnyBlueRectangle = Rectangle(2, 10, 'blue')"
   ]
  },
  {
   "cell_type": "code",
   "execution_count": 36,
   "metadata": {},
   "outputs": [
    {
     "data": {
      "text/plain": [
       "'blue'"
      ]
     },
     "execution_count": 36,
     "metadata": {},
     "output_type": "execute_result"
    }
   ],
   "source": [
    "SkinnyBlueRectangle.color"
   ]
  },
  {
   "cell_type": "code",
   "execution_count": 37,
   "metadata": {},
   "outputs": [
    {
     "data": {
      "text/plain": [
       "2"
      ]
     },
     "execution_count": 37,
     "metadata": {},
     "output_type": "execute_result"
    }
   ],
   "source": [
    "SkinnyBlueRectangle.width"
   ]
  },
  {
   "cell_type": "code",
   "execution_count": 38,
   "metadata": {},
   "outputs": [
    {
     "data": {
      "text/plain": [
       "10"
      ]
     },
     "execution_count": 38,
     "metadata": {},
     "output_type": "execute_result"
    }
   ],
   "source": [
    "SkinnyBlueRectangle.height "
   ]
  },
  {
   "cell_type": "code",
   "execution_count": 39,
   "metadata": {},
   "outputs": [
    {
     "data": {
      "text/plain": [
       "5"
      ]
     },
     "execution_count": 39,
     "metadata": {},
     "output_type": "execute_result"
    }
   ],
   "source": [
    "FatYellowRectangle = Rectangle(20, 5, 'yellow')\n",
    "FatYellowRectangle.height "
   ]
  },
  {
   "cell_type": "code",
   "execution_count": 41,
   "metadata": {},
   "outputs": [
    {
     "data": {
      "text/plain": [
       "'yellow'"
      ]
     },
     "execution_count": 41,
     "metadata": {},
     "output_type": "execute_result"
    }
   ],
   "source": [
    "FatYellowRectangle.color"
   ]
  },
  {
   "cell_type": "code",
   "execution_count": 42,
   "metadata": {},
   "outputs": [
    {
     "data": {
      "text/plain": [
       "20"
      ]
     },
     "execution_count": 42,
     "metadata": {},
     "output_type": "execute_result"
    }
   ],
   "source": [
    "FatYellowRectangle.width"
   ]
  },
  {
   "cell_type": "code",
   "execution_count": 44,
   "metadata": {},
   "outputs": [
    {
     "name": "stdout",
     "output_type": "stream",
     "text": [
      "x= 2  y= 2\n"
     ]
    }
   ],
   "source": [
    "class Points(object):\n",
    "  def __init__(self,x,y):\n",
    "\n",
    "    self.x=x\n",
    "    self.y=y\n",
    "\n",
    "  def print_point(self):\n",
    "\n",
    "    print('x=',self.x,' y=',self.y)\n",
    "\n",
    "p2=Points(1,2)\n",
    "\n",
    "p2.x=2\n",
    "\n",
    "p2.print_point()"
   ]
  },
  {
   "cell_type": "code",
   "execution_count": null,
   "metadata": {},
   "outputs": [],
   "source": []
  }
 ],
 "metadata": {
  "kernelspec": {
   "display_name": "Python",
   "language": "python",
   "name": "conda-env-python-py"
  },
  "language_info": {
   "codemirror_mode": {
    "name": "ipython",
    "version": 3
   },
   "file_extension": ".py",
   "mimetype": "text/x-python",
   "name": "python",
   "nbconvert_exporter": "python",
   "pygments_lexer": "ipython3",
   "version": "3.6.11"
  }
 },
 "nbformat": 4,
 "nbformat_minor": 4
}
